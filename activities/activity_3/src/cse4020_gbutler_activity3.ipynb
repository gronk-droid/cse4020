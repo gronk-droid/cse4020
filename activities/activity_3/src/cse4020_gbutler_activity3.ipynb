{
 "cells": [
  {
   "cell_type": "markdown",
   "metadata": {},
   "source": [
    "# CSE4020 Activity 3\n",
    "Grant Butler | [gbutler2020@my.fit.edu](mailto:gbutler2020@my.fit.edu)"
   ]
  },
  {
   "attachments": {},
   "cell_type": "markdown",
   "metadata": {},
   "source": [
    "<u>Question 1.</u>\n",
    "\n",
    "Imagine that the bank has received a portion of a government bailout totaling 10 million dollars. One requirement for banks receiving this bailout money is that they remain their current size (ie., large branches are branches with assets >= 3 million dollars and small branches have assets < 3 million dollars). The CEO of the bank, Nate Richmond, would like to divide this bailout money equally among the small branches at the bank."
   ]
  },
  {
   "cell_type": "code",
   "execution_count": 1,
   "metadata": {},
   "outputs": [],
   "source": [
    "# - - - - - - - - - #\n",
    "# connecting to RDS #\n",
    "# - - - - - - - - - #\n",
    "\n",
    "# imports\n",
    "import json\n",
    "import mysql.connector as connector\n",
    "\n",
    "# loading credentials from json\n",
    "f = open(\"rds_endpoint.json\")\n",
    "creds = json.load(f)\n",
    "\n",
    "# making dict of credentials to log into the RDS server\n",
    "config = {\n",
    "    'user': creds[\"username\"],\n",
    "    'password': creds[\"password\"],\n",
    "    'host': creds[\"endpoint\"],\n",
    "    'database': creds[\"db_name\"]\n",
    "}\n",
    "\n",
    "# connecting to endpoint with unpacking ( ⌐■-■)\n",
    "conn = connector.connect(**config)\n",
    "\n",
    "if conn.is_connected():\n",
    "    cursor = conn.cursor()"
   ]
  },
  {
   "attachments": {},
   "cell_type": "markdown",
   "metadata": {},
   "source": [
    "<u>Task 1a.</u>\n",
    "Execute a single query to return and print out the total assets owned by the bank (i.e., a cumulative total of the assets at all branches)"
   ]
  },
  {
   "cell_type": "code",
   "execution_count": 2,
   "metadata": {},
   "outputs": [
    {
     "name": "stdout",
     "output_type": "stream",
     "text": [
      "bank's total assets: $24,600,480.0\n"
     ]
    }
   ],
   "source": [
    "query = \"\"\"SELECT SUM(assets) FROM branch;\"\"\"\n",
    "cursor.execute(query)\n",
    "result = cursor.fetchone()\n",
    "print(f\"bank's total assets: ${result[0]:,}\")"
   ]
  },
  {
   "attachments": {},
   "cell_type": "markdown",
   "metadata": {},
   "source": [
    "<u>Task 1b.</u>\n",
    "\n",
    "Create a trigger named `maintain_branch_size` on your branch table that ensures that a small branch does not become a large branch (i.e., that its total assets never get to 3 million dollars). Whenever an update to the assets of a small branch is attempted that would cause it to become a large branch, your trigger should store this excess money in a temporary table (e.g. `bailout_cache`) to be later divided equally among the existing large branches, capping the small branch at 2,999,999.99 in total assets.\n",
    "\n"
   ]
  },
  {
   "cell_type": "code",
   "execution_count": 7,
   "metadata": {},
   "outputs": [],
   "source": [
    "query = \"\"\"\n",
    "CREATE TRIGGER maintain_branch_size BEFORE UPDATE ON branch\n",
    "FOR EACH ROW\n",
    "BEGIN\n",
    "    -- make field to put excess assets\n",
    "    DECLARE excess_assets NUMERIC(12, 2);\n",
    "    \n",
    "    -- check if the money is greater than the cap\n",
    "    IF (OLD.assets < 3000000.00) AND (NEW.assets > 2999999.99) THEN\n",
    "        \n",
    "        -- getting excess by subtracting the amount that is over the cap\n",
    "        SET excess_assets = NEW.assets - 2999999.99;\n",
    "        \n",
    "        -- set branch at cap\n",
    "        SET NEW.assets = 2999999.99;\n",
    "        \n",
    "        -- add to buffer\n",
    "        INSERT INTO bailout_cache (branch_name, assets)\n",
    "        VALUES (OLD.branch_name, excess_assets)\n",
    "        ON DUPLICATE KEY UPDATE assets = assets + excess_assets;\n",
    "    END IF;\n",
    "END;\n",
    "\"\"\"\n",
    "# query = \"\"\"DROP TRIGGER maintain_branch_size\"\"\"\n",
    "cursor.execute(query, multi=True)\n",
    "conn.commit()"
   ]
  },
  {
   "cell_type": "code",
   "execution_count": null,
   "metadata": {
    "vscode": {
     "languageId": "sql"
    }
   },
   "outputs": [],
   "source": [
    "CREATE TRIGGER maintain_branch_size BEFORE UPDATE ON branch\n",
    "FOR EACH ROW\n",
    "BEGIN\n",
    "    -- make field to put excess assets\n",
    "    DECLARE excess_assets NUMERIC(12, 2);\n",
    "    -- check if the money is greater than the cap\n",
    "    IF (NEW.assets) > 2999999.99 THEN\n",
    "        -- getting excess by subtracting the amount that is over the cap\n",
    "        SET excess_assets = NEW.assets - 2999999.99;\n",
    "        -- set at cap\n",
    "        SET NEW.assets = 2999999.99;\n",
    "        -- add to buffer\n",
    "        INSERT INTO bailout_cache (branch_name, assets)\n",
    "        VALUES (OLD.branch_name, excess_assets)\n",
    "        ON DUPLICATE KEY UPDATE assets = assets + excess_assets;\n",
    "    END IF;\n",
    "END;\n"
   ]
  },
  {
   "attachments": {},
   "cell_type": "markdown",
   "metadata": {},
   "source": [
    "<u>Task 1c.</u>\n",
    "\n",
    "Execute a query that attempts to divide the bailout money ($10M) among the small branches as a test of your trigger."
   ]
  },
  {
   "cell_type": "code",
   "execution_count": 5,
   "metadata": {},
   "outputs": [],
   "source": [
    "bailout_per_branch = round(10000000.00 / 9, 2)\n",
    "query = f\"\"\"\n",
    "UPDATE branch SET assets = assets + {bailout_per_branch};\n",
    "\"\"\"\n",
    "cursor.execute(query)\n"
   ]
  },
  {
   "cell_type": "code",
   "execution_count": 6,
   "metadata": {},
   "outputs": [
    {
     "name": "stdout",
     "output_type": "stream",
     "text": [
      "('Brighton', 'Brooklyn', 8111110.0)\n",
      "('Central', 'Rye', 1511390.0)\n",
      "('Downtown', 'Brooklyn', 2011110.0)\n",
      "('Mianus', 'Horseneck', 1511310.0)\n",
      "('North Town', 'Rye', 4811110.0)\n",
      "('Perryridge', 'Horseneck', 2811110.0)\n",
      "('Pownal', 'Bennington', 1511110.0)\n",
      "('Redwood', 'Palo Alto', 3211110.0)\n",
      "('Round Hill', 'Horseneck', 9111110.0)\n"
     ]
    }
   ],
   "source": [
    "query = \"SELECT * FROM branch\"\n",
    "cursor.execute(query)\n",
    "results = cursor.fetchall()\n",
    "for row in results:\n",
    "    print(row)"
   ]
  },
  {
   "attachments": {},
   "cell_type": "markdown",
   "metadata": {},
   "source": [
    "<u>Task 1d.</u>\n",
    "\n",
    "Execute a query that divides any excess money from the bailout (money in your bailout_cache table) among the large branches."
   ]
  },
  {
   "cell_type": "code",
   "execution_count": null,
   "metadata": {},
   "outputs": [],
   "source": []
  },
  {
   "attachments": {},
   "cell_type": "markdown",
   "metadata": {},
   "source": [
    "<u>Task 1e.</u>\n",
    "\n",
    "Execute a single query to return and print out the total assets owned by the bank ( i.e., a cumulative total of the assets at all branches) after all changes above have been made."
   ]
  },
  {
   "cell_type": "code",
   "execution_count": null,
   "metadata": {},
   "outputs": [],
   "source": []
  }
 ],
 "metadata": {
  "kernelspec": {
   "display_name": "Python 3",
   "language": "python",
   "name": "python3"
  },
  "language_info": {
   "codemirror_mode": {
    "name": "ipython",
    "version": 3
   },
   "file_extension": ".py",
   "mimetype": "text/x-python",
   "name": "python",
   "nbconvert_exporter": "python",
   "pygments_lexer": "ipython3",
   "version": "3.10.8"
  },
  "orig_nbformat": 4
 },
 "nbformat": 4,
 "nbformat_minor": 2
}
