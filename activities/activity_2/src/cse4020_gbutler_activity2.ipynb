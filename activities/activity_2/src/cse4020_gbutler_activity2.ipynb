{
 "cells": [
  {
   "attachments": {},
   "cell_type": "markdown",
   "metadata": {},
   "source": [
    "# CSE4020 Activity 2\n",
    "Grant Butler | [gbutler2020@my.fit.edu](mailto:gbutler2020@my.fit.edu)"
   ]
  },
  {
   "attachments": {},
   "cell_type": "markdown",
   "metadata": {},
   "source": [
    "#### Task 1:\n",
    "In a Jupyter Notebook, write code either in Python, Java or C to connect to your AWS RDS\n",
    "instance and insert the data from each of the CSV files into the RDS database that you created on AWS on Activity 1. Display the number of rows affected for each table (1 cumulative count for all inserts per table - example: 15 rows inserted for table customer). (Hint: If your data types do not match the given data, you may use the following SQL statement to update your data types: ALTER TABLE table_name MODIFY column_name NEW_DATA_TYPE;)"
   ]
  },
  {
   "cell_type": "code",
   "execution_count": 1,
   "metadata": {},
   "outputs": [],
   "source": [
    "# - - - - - - - - - #\n",
    "# connecting to RDS #\n",
    "# - - - - - - - - - #\n",
    "\n",
    "# imports\n",
    "import json\n",
    "import mysql.connector as connector\n",
    "\n",
    "# loading credentials from json\n",
    "f = open(\"rds_endpoint.json\")\n",
    "creds = json.load(f)\n",
    "\n",
    "# making dict of credentials to log into the RDS server\n",
    "config = {\n",
    "    'user': creds[\"username\"],\n",
    "    'password': creds[\"password\"],\n",
    "    'host': creds[\"endpoint\"],\n",
    "    'database': creds[\"db_name\"]\n",
    "}\n",
    "\n",
    "# connecting to endpoint with unpacking ( ⌐■-■)\n",
    "conn = connector.connect(**config, autocommit=True)\n",
    "\n",
    "if conn.is_connected():\n",
    "    cursor = conn.cursor()"
   ]
  },
  {
   "cell_type": "code",
   "execution_count": 2,
   "metadata": {},
   "outputs": [],
   "source": [
    "def insert_csv(path:str, table:str):\n",
    "    query = f\"LOAD DATA LOCAL INFILE '{path}' INTO TABLE {table} FIELDS TERMINATED BY ',' LINES TERMINATED BY '\\\\n' IGNORE 1 LINES\"\n",
    "    cursor.execute(query)\n",
    "    if cursor.rowcount != -1:\n",
    "        return f\"{cursor.rowcount} affected rows in table {table}\"\n",
    "    else:\n",
    "        return f\"ERR: no rows affected\""
   ]
  },
  {
   "cell_type": "code",
   "execution_count": 4,
   "metadata": {},
   "outputs": [
    {
     "ename": "DatabaseError",
     "evalue": "1205 (HY000): Lock wait timeout exceeded; try restarting transaction",
     "output_type": "error",
     "traceback": [
      "\u001b[0;31m---------------------------------------------------------------------------\u001b[0m",
      "\u001b[0;31mDatabaseError\u001b[0m                             Traceback (most recent call last)",
      "\u001b[1;32m/home/gronk-droid/gh/fit2023spring/cse4020/activities/activity_2/src/cse4020_gbutler_activity2.ipynb Cell 5\u001b[0m in \u001b[0;36m4\n\u001b[1;32m      <a href='vscode-notebook-cell://wsl%2Barch/home/gronk-droid/gh/fit2023spring/cse4020/activities/activity_2/src/cse4020_gbutler_activity2.ipynb#W5sdnNjb2RlLXJlbW90ZQ%3D%3D?line=0'>1</a>\u001b[0m \u001b[39m# - - - - - - - - - - - - - - - #\u001b[39;00m\n\u001b[1;32m      <a href='vscode-notebook-cell://wsl%2Barch/home/gronk-droid/gh/fit2023spring/cse4020/activities/activity_2/src/cse4020_gbutler_activity2.ipynb#W5sdnNjb2RlLXJlbW90ZQ%3D%3D?line=1'>2</a>\u001b[0m \u001b[39m# inserting csvs into database  #\u001b[39;00m\n\u001b[1;32m      <a href='vscode-notebook-cell://wsl%2Barch/home/gronk-droid/gh/fit2023spring/cse4020/activities/activity_2/src/cse4020_gbutler_activity2.ipynb#W5sdnNjb2RlLXJlbW90ZQ%3D%3D?line=2'>3</a>\u001b[0m \u001b[39m# - - - - - - - - - - - - - - - #\u001b[39;00m\n\u001b[0;32m----> <a href='vscode-notebook-cell://wsl%2Barch/home/gronk-droid/gh/fit2023spring/cse4020/activities/activity_2/src/cse4020_gbutler_activity2.ipynb#W5sdnNjb2RlLXJlbW90ZQ%3D%3D?line=3'>4</a>\u001b[0m \u001b[39mprint\u001b[39m(insert_csv(\u001b[39m'\u001b[39;49m\u001b[39mdata/branch.csv\u001b[39;49m\u001b[39m'\u001b[39;49m, \u001b[39m'\u001b[39;49m\u001b[39mbranch\u001b[39;49m\u001b[39m'\u001b[39;49m))\n\u001b[1;32m      <a href='vscode-notebook-cell://wsl%2Barch/home/gronk-droid/gh/fit2023spring/cse4020/activities/activity_2/src/cse4020_gbutler_activity2.ipynb#W5sdnNjb2RlLXJlbW90ZQ%3D%3D?line=4'>5</a>\u001b[0m \u001b[39mprint\u001b[39m(insert_csv(\u001b[39m'\u001b[39m\u001b[39mdata/loan.csv\u001b[39m\u001b[39m'\u001b[39m, \u001b[39m'\u001b[39m\u001b[39mloan\u001b[39m\u001b[39m'\u001b[39m))\n\u001b[1;32m      <a href='vscode-notebook-cell://wsl%2Barch/home/gronk-droid/gh/fit2023spring/cse4020/activities/activity_2/src/cse4020_gbutler_activity2.ipynb#W5sdnNjb2RlLXJlbW90ZQ%3D%3D?line=5'>6</a>\u001b[0m \u001b[39mprint\u001b[39m(insert_csv(\u001b[39m'\u001b[39m\u001b[39mdata/account.csv\u001b[39m\u001b[39m'\u001b[39m, \u001b[39m'\u001b[39m\u001b[39maccount\u001b[39m\u001b[39m'\u001b[39m))\n",
      "\u001b[1;32m/home/gronk-droid/gh/fit2023spring/cse4020/activities/activity_2/src/cse4020_gbutler_activity2.ipynb Cell 5\u001b[0m in \u001b[0;36m3\n\u001b[1;32m      <a href='vscode-notebook-cell://wsl%2Barch/home/gronk-droid/gh/fit2023spring/cse4020/activities/activity_2/src/cse4020_gbutler_activity2.ipynb#W5sdnNjb2RlLXJlbW90ZQ%3D%3D?line=0'>1</a>\u001b[0m \u001b[39mdef\u001b[39;00m \u001b[39minsert_csv\u001b[39m(path:\u001b[39mstr\u001b[39m, table:\u001b[39mstr\u001b[39m):\n\u001b[1;32m      <a href='vscode-notebook-cell://wsl%2Barch/home/gronk-droid/gh/fit2023spring/cse4020/activities/activity_2/src/cse4020_gbutler_activity2.ipynb#W5sdnNjb2RlLXJlbW90ZQ%3D%3D?line=1'>2</a>\u001b[0m     query \u001b[39m=\u001b[39m \u001b[39mf\u001b[39m\u001b[39m\"\u001b[39m\u001b[39mLOAD DATA LOCAL INFILE \u001b[39m\u001b[39m'\u001b[39m\u001b[39m{\u001b[39;00mpath\u001b[39m}\u001b[39;00m\u001b[39m'\u001b[39m\u001b[39m INTO TABLE \u001b[39m\u001b[39m{\u001b[39;00mtable\u001b[39m}\u001b[39;00m\u001b[39m FIELDS TERMINATED BY \u001b[39m\u001b[39m'\u001b[39m\u001b[39m,\u001b[39m\u001b[39m'\u001b[39m\u001b[39m LINES TERMINATED BY \u001b[39m\u001b[39m'\u001b[39m\u001b[39m\\\\\u001b[39;00m\u001b[39mn\u001b[39m\u001b[39m'\u001b[39m\u001b[39m IGNORE 1 LINES\u001b[39m\u001b[39m\"\u001b[39m\n\u001b[0;32m----> <a href='vscode-notebook-cell://wsl%2Barch/home/gronk-droid/gh/fit2023spring/cse4020/activities/activity_2/src/cse4020_gbutler_activity2.ipynb#W5sdnNjb2RlLXJlbW90ZQ%3D%3D?line=2'>3</a>\u001b[0m     cursor\u001b[39m.\u001b[39;49mexecute(query)\n\u001b[1;32m      <a href='vscode-notebook-cell://wsl%2Barch/home/gronk-droid/gh/fit2023spring/cse4020/activities/activity_2/src/cse4020_gbutler_activity2.ipynb#W5sdnNjb2RlLXJlbW90ZQ%3D%3D?line=3'>4</a>\u001b[0m     \u001b[39mif\u001b[39;00m cursor\u001b[39m.\u001b[39mrowcount \u001b[39m!=\u001b[39m \u001b[39m-\u001b[39m\u001b[39m1\u001b[39m:\n\u001b[1;32m      <a href='vscode-notebook-cell://wsl%2Barch/home/gronk-droid/gh/fit2023spring/cse4020/activities/activity_2/src/cse4020_gbutler_activity2.ipynb#W5sdnNjb2RlLXJlbW90ZQ%3D%3D?line=4'>5</a>\u001b[0m         \u001b[39mreturn\u001b[39;00m \u001b[39mf\u001b[39m\u001b[39m\"\u001b[39m\u001b[39m{\u001b[39;00mcursor\u001b[39m.\u001b[39mrowcount\u001b[39m}\u001b[39;00m\u001b[39m affected rows in table \u001b[39m\u001b[39m{\u001b[39;00mtable\u001b[39m}\u001b[39;00m\u001b[39m\"\u001b[39m\n",
      "File \u001b[0;32m~/.local/lib/python3.10/site-packages/mysql/connector/cursor.py:551\u001b[0m, in \u001b[0;36mMySQLCursor.execute\u001b[0;34m(self, operation, params, multi)\u001b[0m\n\u001b[1;32m    549\u001b[0m \u001b[39melse\u001b[39;00m:\n\u001b[1;32m    550\u001b[0m     \u001b[39mtry\u001b[39;00m:\n\u001b[0;32m--> 551\u001b[0m         \u001b[39mself\u001b[39m\u001b[39m.\u001b[39m_handle_result(\u001b[39mself\u001b[39;49m\u001b[39m.\u001b[39;49m_connection\u001b[39m.\u001b[39;49mcmd_query(stmt))\n\u001b[1;32m    552\u001b[0m     \u001b[39mexcept\u001b[39;00m errors\u001b[39m.\u001b[39mInterfaceError:\n\u001b[1;32m    553\u001b[0m         \u001b[39mif\u001b[39;00m \u001b[39mself\u001b[39m\u001b[39m.\u001b[39m_connection\u001b[39m.\u001b[39m_have_next_result:  \u001b[39m# pylint: disable=W0212\u001b[39;00m\n",
      "File \u001b[0;32m~/.local/lib/python3.10/site-packages/mysql/connector/connection.py:490\u001b[0m, in \u001b[0;36mMySQLConnection.cmd_query\u001b[0;34m(self, query, raw, buffered, raw_as_string)\u001b[0m\n\u001b[1;32m    488\u001b[0m \u001b[39mif\u001b[39;00m \u001b[39mnot\u001b[39;00m \u001b[39misinstance\u001b[39m(query, \u001b[39mbytes\u001b[39m):\n\u001b[1;32m    489\u001b[0m     query \u001b[39m=\u001b[39m query\u001b[39m.\u001b[39mencode(\u001b[39m'\u001b[39m\u001b[39mutf-8\u001b[39m\u001b[39m'\u001b[39m)\n\u001b[0;32m--> 490\u001b[0m result \u001b[39m=\u001b[39m \u001b[39mself\u001b[39;49m\u001b[39m.\u001b[39;49m_handle_result(\u001b[39mself\u001b[39;49m\u001b[39m.\u001b[39;49m_send_cmd(ServerCmd\u001b[39m.\u001b[39;49mQUERY, query))\n\u001b[1;32m    492\u001b[0m \u001b[39mif\u001b[39;00m \u001b[39mself\u001b[39m\u001b[39m.\u001b[39m_have_next_result:\n\u001b[1;32m    493\u001b[0m     \u001b[39mraise\u001b[39;00m errors\u001b[39m.\u001b[39mInterfaceError(\n\u001b[1;32m    494\u001b[0m         \u001b[39m'\u001b[39m\u001b[39mUse cmd_query_iter for statements with multiple queries.\u001b[39m\u001b[39m'\u001b[39m)\n",
      "File \u001b[0;32m~/.local/lib/python3.10/site-packages/mysql/connector/connection.py:395\u001b[0m, in \u001b[0;36mMySQLConnection._handle_result\u001b[0;34m(self, packet)\u001b[0m\n\u001b[1;32m    393\u001b[0m     \u001b[39mreturn\u001b[39;00m \u001b[39mself\u001b[39m\u001b[39m.\u001b[39m_handle_eof(packet)\n\u001b[1;32m    394\u001b[0m \u001b[39melif\u001b[39;00m packet[\u001b[39m4\u001b[39m] \u001b[39m==\u001b[39m \u001b[39m255\u001b[39m:\n\u001b[0;32m--> 395\u001b[0m     \u001b[39mraise\u001b[39;00m errors\u001b[39m.\u001b[39mget_exception(packet)\n\u001b[1;32m    397\u001b[0m \u001b[39m# We have a text result set\u001b[39;00m\n\u001b[1;32m    398\u001b[0m column_count \u001b[39m=\u001b[39m \u001b[39mself\u001b[39m\u001b[39m.\u001b[39m_protocol\u001b[39m.\u001b[39mparse_column_count(packet)\n",
      "\u001b[0;31mDatabaseError\u001b[0m: 1205 (HY000): Lock wait timeout exceeded; try restarting transaction"
     ]
    }
   ],
   "source": [
    "# - - - - - - - - - - - - - - - #\n",
    "# inserting csvs into database  #\n",
    "# - - - - - - - - - - - - - - - #\n",
    "print(insert_csv('data/branch.csv', 'branch'))\n",
    "print(insert_csv('data/loan.csv', 'loan'))\n",
    "print(insert_csv('data/account.csv', 'account'))\n",
    "print(insert_csv('data/depositor.csv', 'depositor'))\n",
    "print(insert_csv('data/customer.csv', 'customer'))\n",
    "print(insert_csv('data/borrower.csv', 'borrower'))"
   ]
  },
  {
   "cell_type": "code",
   "execution_count": null,
   "metadata": {},
   "outputs": [],
   "source": [
    "query = \"DELETE FROM branch\"\n",
    "cursor.execute(query)"
   ]
  },
  {
   "cell_type": "code",
   "execution_count": null,
   "metadata": {},
   "outputs": [],
   "source": []
  }
 ],
 "metadata": {
  "kernelspec": {
   "display_name": "Python 3",
   "language": "python",
   "name": "python3"
  },
  "language_info": {
   "codemirror_mode": {
    "name": "ipython",
    "version": 3
   },
   "file_extension": ".py",
   "mimetype": "text/x-python",
   "name": "python",
   "nbconvert_exporter": "python",
   "pygments_lexer": "ipython3",
   "version": "3.10.8"
  },
  "orig_nbformat": 4
 },
 "nbformat": 4,
 "nbformat_minor": 2
}
