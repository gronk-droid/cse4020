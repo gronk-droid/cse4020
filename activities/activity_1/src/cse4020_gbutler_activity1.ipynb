{
 "cells": [
  {
   "attachments": {},
   "cell_type": "markdown",
   "metadata": {},
   "source": [
    "# CSE4020 Activity 1\n",
    "Grant Butler | [904.423.9358](tel:9044239358) | [gbutler2020@my.fit.edu](mailto:gbutler2020@my.fit.edu)\n",
    "\n",
    "- - -"
   ]
  },
  {
   "attachments": {},
   "cell_type": "markdown",
   "metadata": {},
   "source": [
    "##### Task 1:\n",
    "*Provide evidence to show that AWS RDS was setup correctly.*\n",
    "\n",
    "**Evidence 1**: A screenshot from MySQL Workbench that shows a successful connection to your endpoint.\n",
    "![evidence_1](assets/mysql_workbench_connection.png)\n",
    "\n",
    "**Evidence 2**: Make a connection to your RDS database using code and test your connection using the\n",
    "statement:\n",
    "```py\n",
    "connection.is_connected()\n",
    "```"
   ]
  },
  {
   "cell_type": "code",
   "execution_count": 1,
   "metadata": {},
   "outputs": [],
   "source": [
    "# imports\n",
    "import json\n",
    "import mysql.connector as connector"
   ]
  },
  {
   "cell_type": "code",
   "execution_count": 2,
   "metadata": {},
   "outputs": [],
   "source": [
    "# loading credentials from json\n",
    "f = open(\"rds_endpoint.json\")\n",
    "creds = json.load(f)"
   ]
  },
  {
   "cell_type": "code",
   "execution_count": 3,
   "metadata": {},
   "outputs": [],
   "source": [
    "# making dict of credentials to log into the RDS server\n",
    "config = {\n",
    "    'user': creds[\"username\"],\n",
    "    'password': creds[\"password\"],\n",
    "    'host': creds[\"endpoint\"]\n",
    "}\n",
    "\n",
    "# connecting to endpoint with unpacking ( ⌐■-■)\n",
    "connection = connector.connect(**config)"
   ]
  },
  {
   "cell_type": "code",
   "execution_count": 4,
   "metadata": {},
   "outputs": [
    {
     "data": {
      "text/plain": [
       "True"
      ]
     },
     "execution_count": 4,
     "metadata": {},
     "output_type": "execute_result"
    }
   ],
   "source": [
    "# Evidence 2: showing connection to database with code\n",
    "connection.is_connected()"
   ]
  },
  {
   "attachments": {},
   "cell_type": "markdown",
   "metadata": {},
   "source": [
    "##### Task 2:\n",
    "\n",
    "Create a DDL file based on the following schema diagram (You may use dbdiagram.io as demonstrated in class or you may create the tables manually). Add integrity constraints to your DDL that ensures that the balance in the account table and the amount in the loan table cannot be negative. See the slides on relation algebra for example data types. Add your DDL file as Markdown color-coded SQL statements to your notebook."
   ]
  },
  {
   "attachments": {},
   "cell_type": "markdown",
   "metadata": {},
   "source": [
    "![ddl in dbdiagram](assets/dbdiagram.png)\n",
    "\n",
    "<u>*DDL schema diagram in dbdiagram.io*</u>"
   ]
  },
  {
   "cell_type": "code",
   "execution_count": 15,
   "metadata": {},
   "outputs": [
    {
     "data": {
      "text/plain": [
       "<generator object MySQLCursor._execute_iter at 0x7f7eec2a8190>"
      ]
     },
     "execution_count": 15,
     "metadata": {},
     "output_type": "execute_result"
    }
   ],
   "source": [
    "curr_command = '''\n",
    "create database if not exists cse4020;\n",
    "\n",
    "use cse4020;\n",
    "CREATE TABLE IF NOT EXISTS `branch` (\n",
    "  `branch_name` varchar(25),\n",
    "  `branch_city` varchar(25),\n",
    "  `assets` int,\n",
    "  primary key (branch_name)\n",
    ");\n",
    "\n",
    "CREATE TABLE IF NOT EXISTS `account` (\n",
    "  `account_number` char(10),\n",
    "  `branch_name` varchar(25),\n",
    "  `balance` int check (balance > 0),\n",
    "  primary key (account_number)\n",
    ");\n",
    "\n",
    "CREATE TABLE IF NOT EXISTS `depositor` (\n",
    "  `customer_name` varchar(25),\n",
    "  `account_number` char(10),\n",
    "  primary key (customer_name)\n",
    ");\n",
    "\n",
    "CREATE TABLE IF NOT EXISTS `customer` (\n",
    "  `customer_name` varchar(25),\n",
    "  `customer_street` varchar(25),\n",
    "  `customer_city` varchar(25),\n",
    "  primary key (customer_name)\n",
    ");\n",
    "\n",
    "CREATE TABLE IF NOT EXISTS `borrower` (\n",
    "  `customer_name` varchar(25),\n",
    "  `loan_number` char(10),\n",
    "  primary key (customer_name)\n",
    ");\n",
    "\n",
    "CREATE TABLE IF NOT EXISTS `loan` (\n",
    "  `loan_number` char(10),\n",
    "  `branch_name` varchar(25),\n",
    "  `amount` int check (amount > 0),\n",
    "  primary key (loan_number)\n",
    ");\n",
    "\n",
    "ALTER TABLE `account` ADD FOREIGN KEY (`branch_name`) REFERENCES `branch` (`branch_name`);\n",
    "\n",
    "ALTER TABLE `depositor` ADD FOREIGN KEY (`account_number`) REFERENCES `account` (`account_number`);\n",
    "\n",
    "ALTER TABLE `customer` ADD FOREIGN KEY (`customer_name`) REFERENCES `depositor` (`customer_name`);\n",
    "\n",
    "ALTER TABLE `borrower` ADD FOREIGN KEY (`customer_name`) REFERENCES `customer` (`customer_name`);\n",
    "\n",
    "ALTER TABLE `borrower` ADD FOREIGN KEY (`loan_number`) REFERENCES `loan` (`loan_number`);\n",
    "\n",
    "ALTER TABLE `loan` ADD FOREIGN KEY (`branch_name`) REFERENCES `branch` (`branch_name`);\n",
    "\n",
    "ALTER TABLE `depositor` ADD FOREIGN KEY (`account_number`) REFERENCES `depositor` (`customer_name`);\n",
    "'''\n",
    "\n",
    "cursor = connection.cursor()\n",
    "\n",
    "results = []\n",
    "\n",
    "for result in cursor.execute(curr_command, multi=True):\n",
    "    results.append(str(result))\n"
   ]
  },
  {
   "attachments": {},
   "cell_type": "markdown",
   "metadata": {},
   "source": [
    "DDL File:\n",
    "\n",
    "```sql\n",
    "CREATE TABLE IF NOT EXISTS `branch` (\n",
    "  `branch_name` varchar(25),\n",
    "  `branch_city` varchar(25),\n",
    "  `assets` int,\n",
    "  primary key (branch_name)\n",
    ");\n",
    "\n",
    "CREATE TABLE IF NOT EXISTS `account` (\n",
    "  `account_number` char(10),\n",
    "  `branch_name` varchar(25),\n",
    "  `balance` int check (balance > 0),\n",
    "  primary key (account_number)\n",
    ");\n",
    "\n",
    "CREATE TABLE IF NOT EXISTS `depositor` (\n",
    "  `customer_name` varchar(25),\n",
    "  `account_number` char(10),\n",
    "  primary key (customer_name)\n",
    ");\n",
    "\n",
    "CREATE TABLE IF NOT EXISTS `customer` (\n",
    "  `customer_name` varchar(25),\n",
    "  `customer_street` varchar(25),\n",
    "  `customer_city` varchar(25),\n",
    "  primary key (customer_name)\n",
    ");\n",
    "\n",
    "CREATE TABLE IF NOT EXISTS `borrower` (\n",
    "  `customer_name` varchar(25),\n",
    "  `loan_number` char(10),\n",
    "  primary key (customer_name)\n",
    ");\n",
    "\n",
    "CREATE TABLE IF NOT EXISTS `loan` (\n",
    "  `loan_number` char(10),\n",
    "  `branch_name` varchar(25),\n",
    "  `amount` int check (amount > 0),\n",
    "  primary key (loan_number)\n",
    ");\n",
    "\n",
    "ALTER TABLE `account` ADD FOREIGN KEY (`branch_name`) REFERENCES `branch` (`branch_name`);\n",
    "\n",
    "ALTER TABLE `depositor` ADD FOREIGN KEY (`account_number`) REFERENCES `account` (`account_number`);\n",
    "\n",
    "ALTER TABLE `customer` ADD FOREIGN KEY (`customer_name`) REFERENCES `depositor` (`customer_name`);\n",
    "\n",
    "ALTER TABLE `borrower` ADD FOREIGN KEY (`customer_name`) REFERENCES `customer` (`customer_name`);\n",
    "\n",
    "ALTER TABLE `borrower` ADD FOREIGN KEY (`loan_number`) REFERENCES `loan` (`loan_number`);\n",
    "\n",
    "ALTER TABLE `loan` ADD FOREIGN KEY (`branch_name`) REFERENCES `branch` (`branch_name`);\n",
    "\n",
    "ALTER TABLE `depositor` ADD FOREIGN KEY (`account_number`) REFERENCES `depositor` (`customer_name`);\n",
    "```"
   ]
  },
  {
   "attachments": {},
   "cell_type": "markdown",
   "metadata": {},
   "source": [
    "##### Task 3:\n",
    "\n",
    "In a Jupyter Notebook, write code either in Python, Java or C that connects to your AWS RDS instance\n",
    "and creates each of the tables in your DDL file.\n",
    "\n",
    "*tada (ﾉ◕ヮ◕)ﾉ*:･ﾟ✧*"
   ]
  },
  {
   "attachments": {},
   "cell_type": "markdown",
   "metadata": {},
   "source": [
    "Task 4:\n",
    "\n",
    "Verify that your tables were created by using code to issue the following command for each table in your\n",
    "list.\n",
    "\n",
    "```sql\n",
    "SHOW CREATE TABLE TABLE_NAME\n",
    "```"
   ]
  },
  {
   "cell_type": "code",
   "execution_count": 8,
   "metadata": {},
   "outputs": [],
   "source": [
    "from IPython.display import display, Markdown"
   ]
  },
  {
   "cell_type": "code",
   "execution_count": 13,
   "metadata": {},
   "outputs": [
    {
     "data": {
      "text/markdown": [
       "MySQLCursor: create database if not exists cse4020"
      ],
      "text/plain": [
       "<IPython.core.display.Markdown object>"
      ]
     },
     "metadata": {},
     "output_type": "display_data"
    },
    {
     "data": {
      "text/markdown": [
       "MySQLCursor: use cse4020"
      ],
      "text/plain": [
       "<IPython.core.display.Markdown object>"
      ]
     },
     "metadata": {},
     "output_type": "display_data"
    },
    {
     "data": {
      "text/markdown": [
       "MySQLCursor: CREATE TABLE IF NOT EXISTS `branch` (\n",
       "  .."
      ],
      "text/plain": [
       "<IPython.core.display.Markdown object>"
      ]
     },
     "metadata": {},
     "output_type": "display_data"
    },
    {
     "data": {
      "text/markdown": [
       "MySQLCursor: CREATE TABLE IF NOT EXISTS `account` (\n",
       " .."
      ],
      "text/plain": [
       "<IPython.core.display.Markdown object>"
      ]
     },
     "metadata": {},
     "output_type": "display_data"
    },
    {
     "data": {
      "text/markdown": [
       "MySQLCursor: CREATE TABLE IF NOT EXISTS `depositor` (.."
      ],
      "text/plain": [
       "<IPython.core.display.Markdown object>"
      ]
     },
     "metadata": {},
     "output_type": "display_data"
    },
    {
     "data": {
      "text/markdown": [
       "MySQLCursor: CREATE TABLE IF NOT EXISTS `customer` (\n",
       ".."
      ],
      "text/plain": [
       "<IPython.core.display.Markdown object>"
      ]
     },
     "metadata": {},
     "output_type": "display_data"
    },
    {
     "data": {
      "text/markdown": [
       "MySQLCursor: CREATE TABLE IF NOT EXISTS `borrower` (\n",
       ".."
      ],
      "text/plain": [
       "<IPython.core.display.Markdown object>"
      ]
     },
     "metadata": {},
     "output_type": "display_data"
    },
    {
     "data": {
      "text/markdown": [
       "MySQLCursor: CREATE TABLE IF NOT EXISTS `loan` (\n",
       "  `l.."
      ],
      "text/plain": [
       "<IPython.core.display.Markdown object>"
      ]
     },
     "metadata": {},
     "output_type": "display_data"
    },
    {
     "data": {
      "text/markdown": [
       "MySQLCursor: ALTER TABLE `account` ADD FOREIGN KEY (`.."
      ],
      "text/plain": [
       "<IPython.core.display.Markdown object>"
      ]
     },
     "metadata": {},
     "output_type": "display_data"
    },
    {
     "data": {
      "text/markdown": [
       "MySQLCursor: ALTER TABLE `depositor` ADD FOREIGN KEY .."
      ],
      "text/plain": [
       "<IPython.core.display.Markdown object>"
      ]
     },
     "metadata": {},
     "output_type": "display_data"
    },
    {
     "data": {
      "text/markdown": [
       "MySQLCursor: ALTER TABLE `customer` ADD FOREIGN KEY (.."
      ],
      "text/plain": [
       "<IPython.core.display.Markdown object>"
      ]
     },
     "metadata": {},
     "output_type": "display_data"
    },
    {
     "data": {
      "text/markdown": [
       "MySQLCursor: ALTER TABLE `borrower` ADD FOREIGN KEY (.."
      ],
      "text/plain": [
       "<IPython.core.display.Markdown object>"
      ]
     },
     "metadata": {},
     "output_type": "display_data"
    },
    {
     "data": {
      "text/markdown": [
       "MySQLCursor: ALTER TABLE `borrower` ADD FOREIGN KEY (.."
      ],
      "text/plain": [
       "<IPython.core.display.Markdown object>"
      ]
     },
     "metadata": {},
     "output_type": "display_data"
    },
    {
     "data": {
      "text/markdown": [
       "MySQLCursor: ALTER TABLE `loan` ADD FOREIGN KEY (`bra.."
      ],
      "text/plain": [
       "<IPython.core.display.Markdown object>"
      ]
     },
     "metadata": {},
     "output_type": "display_data"
    },
    {
     "data": {
      "text/markdown": [
       "MySQLCursor: ALTER TABLE `depositor` ADD FOREIGN KEY .."
      ],
      "text/plain": [
       "<IPython.core.display.Markdown object>"
      ]
     },
     "metadata": {},
     "output_type": "display_data"
    }
   ],
   "source": [
    "for result in results:\n",
    "    display(Markdown(result))"
   ]
  }
 ],
 "metadata": {
  "kernelspec": {
   "display_name": "Python 3",
   "language": "python",
   "name": "python3"
  },
  "language_info": {
   "codemirror_mode": {
    "name": "ipython",
    "version": 3
   },
   "file_extension": ".py",
   "mimetype": "text/x-python",
   "name": "python",
   "nbconvert_exporter": "python",
   "pygments_lexer": "ipython3",
   "version": "3.10.8"
  },
  "orig_nbformat": 4,
  "vscode": {
   "interpreter": {
    "hash": "767d51c1340bd893661ea55ea3124f6de3c7a262a8b4abca0554b478b1e2ff90"
   }
  }
 },
 "nbformat": 4,
 "nbformat_minor": 2
}
